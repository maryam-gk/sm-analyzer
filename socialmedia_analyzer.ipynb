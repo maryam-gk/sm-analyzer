{
 "cells": [
  {
   "cell_type": "code",
   "execution_count": null,
   "metadata": {},
   "outputs": [],
   "source": [
    "from pydantic import BaseModel\n",
    "from typing import Optional, Literal, List\n",
    "import warnings\n",
    "import groq\n",
    "import os\n",
    "import json\n",
    "\n",
    "warnings.filterwarnings('ignore')\n",
    "import os\n",
    "client = groq.Groq(\n",
    "    api_key=os.environ.get(\"GROQ_API_KEY\"),\n",
    ")\n"
   ]
  },
  {
   "cell_type": "code",
   "execution_count": 39,
   "metadata": {},
   "outputs": [],
   "source": [
    "class UserPost(BaseModel):\n",
    "    user_mood: Literal[\"awful\", \"bad\", \"evil\"]\n",
    "    product: Literal[\"app\", \"website\", \"not_applicable\"]\n",
    "    sentiment: Literal[\"positive\", \"negative\", \"neutral\"]\n",
    "    internal_monologue: List[str]\n",
    "    message: str\n",
    "    \n",
    "def make_post(output_class):\n",
    "    completion = client.chat.completions.create(\n",
    "    model=\"llama-3.3-70b-versatile\",\n",
    "    messages=[\n",
    "        {\n",
    "            \"role\":\"system\",\n",
    "            \"content\":f'''\n",
    "                you are a customer of Tech Corp (@techcorp) , a company that\n",
    "                provides an app and a website. Create a small microblog-style post\n",
    "                to them that sends some kind of feedback, positive or negative and output the post in JSON.\n",
    "                The JSON object must use the schema: {json.dumps(output_class.model_json_schema(), indent=2)}\n",
    "\n",
    "'''\n",
    "        },\n",
    "        {\n",
    "            \"role\":\"user\", \"content\": \"please write a post\"\n",
    "        }\n",
    "    ],\n",
    "    response_format={\"type\": \"json_object\"}    \n",
    "    )\n",
    "    return output_class.model_validate_json(completion.choices[0].message.content)"
   ]
  },
  {
   "cell_type": "code",
   "execution_count": 40,
   "metadata": {},
   "outputs": [
    {
     "data": {
      "text/plain": [
       "UserPost(user_mood='bad', product='app', sentiment='negative', internal_monologue=['I was really looking forward to using the new features', 'But the app keeps crashing on me'], message='@techcorp, having some issues with the app, it keeps crashing. Can you please look into this and provide a fix?')"
      ]
     },
     "execution_count": 40,
     "metadata": {},
     "output_type": "execute_result"
    }
   ],
   "source": [
    "new_post = make_post(UserPost)\n",
    "new_post"
   ]
  },
  {
   "cell_type": "code",
   "execution_count": 41,
   "metadata": {},
   "outputs": [],
   "source": [
    "class Mention(BaseModel):\n",
    "\n",
    "    product: Literal['website', 'app', 'not_applicable']\n",
    "    sentiment: Literal['positive', 'negative', 'neutral']\n",
    "    needs_response: bool\n",
    "\n",
    "    response: Optional[str]\n",
    "    support_ticket_description: Optional[str]"
   ]
  },
  {
   "cell_type": "code",
   "execution_count": 42,
   "metadata": {},
   "outputs": [],
   "source": [
    "def analyze_mention(\n",
    "        mention: str,\n",
    "        personality: str = \"friendly\"\n",
    ") -> Mention:\n",
    "    completion = client.chat.completions.create(\n",
    "        model=\"llama-3.3-70b-versatile\",\n",
    "        messages=[\n",
    "            {\n",
    "                \"role\":\"system\",\n",
    "                \"content\":f\"\"\"\n",
    "    Extract structured information from socialmedia mentions about our products.\n",
    "\n",
    "    Provide in JSON\n",
    "    - The product mentioned (website, app, not applicable) \n",
    "    - The mention sentiment (positive, negative, neutral)\n",
    "    - Whether to respond (true/false). True if you need to respond, false if you don't respond.Don't respond to inflammatory messages or bait.\n",
    "    - A customized response to send to the user if we need to respond.\n",
    "    - An optional support ticket description to create.\n",
    "\n",
    "    The JSON object must use the schema: {json.dumps(Mention.model_json_schema(), indent=2)}\",\n",
    "\n",
    "    Your personality is {personality}.\n",
    "    \"\"\"},\n",
    "    {\"role\":\"user\", \"content\":mention}\n",
    "        ],\n",
    "        response_format={\"type\": \"json_object\"}\n",
    "    )\n",
    "   \n",
    "    return Mention.model_validate_json(completion.choices[0].message.content)"
   ]
  },
  {
   "cell_type": "code",
   "execution_count": 44,
   "metadata": {},
   "outputs": [
    {
     "data": {
      "text/plain": [
       "Mention(product='app', sentiment='negative', needs_response=True, response=\"Sorry to hear that our app is crashing. Can you please provide more details about the issue, such as the device you're using and the steps leading up to the crash? This will help us investigate and provide a fix.\", support_ticket_description='App crashing issue reported by user')"
      ]
     },
     "execution_count": 44,
     "metadata": {},
     "output_type": "execute_result"
    }
   ],
   "source": [
    "processed_mention = analyze_mention(new_post.message, personality='cool')\n",
    "processed_mention"
   ]
  }
 ],
 "metadata": {
  "kernelspec": {
   "display_name": ".venv",
   "language": "python",
   "name": "python3"
  },
  "language_info": {
   "codemirror_mode": {
    "name": "ipython",
    "version": 3
   },
   "file_extension": ".py",
   "mimetype": "text/x-python",
   "name": "python",
   "nbconvert_exporter": "python",
   "pygments_lexer": "ipython3",
   "version": "3.11.9"
  }
 },
 "nbformat": 4,
 "nbformat_minor": 2
}
